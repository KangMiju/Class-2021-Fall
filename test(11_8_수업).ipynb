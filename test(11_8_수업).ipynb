{
  "nbformat": 4,
  "nbformat_minor": 0,
  "metadata": {
    "colab": {
      "name": "test(11/8 수업).ipynb",
      "provenance": [],
      "collapsed_sections": [],
      "authorship_tag": "ABX9TyOPGEOuYxD5ayQ/gFmJz9mB",
      "include_colab_link": true
    },
    "kernelspec": {
      "name": "python3",
      "display_name": "Python 3"
    },
    "language_info": {
      "name": "python"
    }
  },
  "cells": [
    {
      "cell_type": "markdown",
      "metadata": {
        "id": "view-in-github",
        "colab_type": "text"
      },
      "source": [
        "<a href=\"https://colab.research.google.com/github/KangMiju/class2021Fall/blob/main/test(11_8_%EC%88%98%EC%97%85).ipynb\" target=\"_parent\"><img src=\"https://colab.research.google.com/assets/colab-badge.svg\" alt=\"Open In Colab\"/></a>"
      ]
    },
    {
      "cell_type": "markdown",
      "metadata": {
        "id": "cWqfZhPLA_GT"
      },
      "source": [
        "**변수**(**variables**), **제어문**(**syntax**), **함수**"
      ]
    },
    {
      "cell_type": "code",
      "metadata": {
        "colab": {
          "base_uri": "https://localhost:8080/"
        },
        "id": "DSqS6O4F8FKQ",
        "outputId": "86770434-db4b-4839-ea1e-1efc7c862e25"
      },
      "source": [
        "a=1\n",
        "b=1.1\n",
        "c='hello'\n",
        "d= [1, 'abc', 2.1]\n",
        "e={\"apple\" : \"red fruit\", \"banana\" : \"yellow fruit\"}\n",
        "\n",
        "#print(a)\n",
        "#print(b)\n",
        "#print(c)\n",
        "\n",
        "#print(type(a))\n",
        "#print(type(b))\n",
        "#print(type(c))\n",
        "#print(type(d))\n",
        "\n",
        "print(e[\"apple\"])"
      ],
      "execution_count": 10,
      "outputs": [
        {
          "output_type": "stream",
          "name": "stdout",
          "text": [
            "red fruit\n"
          ]
        }
      ]
    },
    {
      "cell_type": "code",
      "metadata": {
        "colab": {
          "base_uri": "https://localhost:8080/"
        },
        "id": "ht3ji-N3FA_V",
        "outputId": "59fa7f44-a622-442e-eec2-88e642198c6f"
      },
      "source": [
        "a=[1,2,3,4]\n",
        "\n",
        "for i in a  : \n",
        "  print (i)\n",
        "  print('hello')\n",
        "\n"
      ],
      "execution_count": 14,
      "outputs": [
        {
          "output_type": "stream",
          "name": "stdout",
          "text": [
            "1\n",
            "hello\n",
            "2\n",
            "hello\n",
            "3\n",
            "hello\n",
            "4\n",
            "hello\n"
          ]
        }
      ]
    },
    {
      "cell_type": "code",
      "metadata": {
        "colab": {
          "base_uri": "https://localhost:8080/"
        },
        "id": "SGurZ_68HRWI",
        "outputId": "dbb9f506-ed32-4c97-d741-10d0c8f7a3b6"
      },
      "source": [
        "a=[1,2,3,4]\n",
        "for i in range(len(a)) :\n",
        "  print(a[i])  "
      ],
      "execution_count": 22,
      "outputs": [
        {
          "output_type": "stream",
          "name": "stdout",
          "text": [
            "1\n",
            "2\n",
            "3\n",
            "4\n"
          ]
        }
      ]
    }
  ]
}